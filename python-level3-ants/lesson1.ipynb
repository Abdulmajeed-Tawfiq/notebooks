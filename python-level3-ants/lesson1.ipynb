{
 "cells": [
  {
   "cell_type": "markdown",
   "id": "d7c659a3",
   "metadata": {},
   "source": [
    "# Lesson Title: HTML Basics and Web Development Introduction\n",
    "\n",
    "## Objective:\n",
    "Create an engaging lesson that introduces HTML and web development to children aged 12-16 with little to no prior programming experience. The lesson will incorporate real-world metaphors and relevant Islamic principles to make programming both educational and inspiring."
   ]
  },
  {
   "cell_type": "markdown",
   "id": "5f3e7688",
   "metadata": {},
   "source": [
    "### 1. Introduction (10-15 minutes)\n",
    "\n",
    "#### Metaphor/Story: \n",
    "Think of a website like a beautiful house. HTML is like the blueprint or foundation that helps create the structure of the house. Just like you need walls, windows, and doors to make a house, in web development, you need certain elements like headings, paragraphs, and images to create a webpage.\n",
    "\n",
    "#### Why It’s Important:\n",
    "In today’s world, every website you visit has been built with HTML. Learning HTML will allow you to build your own websites, express yourself online, and even help others by creating useful resources.\n",
    "\n",
    "#### Islamic Principle:\n",
    "In Islam, we are encouraged to build things with care and responsibility (Amanah). Just like building a house with a strong foundation, you should approach your programming with the same care and attention to detail. You are responsible for what you create, and it can have a lasting impact on others.\n",
    "\n",
    "#### Activity:\n",
    "Ask students to think of a website they use often. How do they think it was made? This will help connect the idea of building websites with real-world experiences.\n"
   ]
  },
  {
   "cell_type": "markdown",
   "id": "334723d9",
   "metadata": {},
   "source": [
    "### 2. Concepts and Theory (15-20 minutes)\n",
    "\n",
    "#### What is HTML?\n",
    "HTML (HyperText Markup Language) is the language used to create the structure of a webpage. It’s like a skeleton that holds everything together.\n",
    "\n",
    "#### Elements:\n",
    "Explain that an HTML document is made up of elements, which are like building blocks. Each element has a purpose, like a paragraph, heading, or image.\n",
    "\n",
    "- **Tags:**\n",
    "Every element is surrounded by tags. A tag looks like this: `<tagname>content</tagname>`. Example: `<h1>My Heading</h1>` is an element that creates a large heading on the page.\n",
    "\n",
    "#### Basic Structure of an HTML Page:\n",
    "Every HTML page follows a basic structure:\n",
    "```html\n",
    "<!DOCTYPE html>\n",
    "<html>\n",
    "    <head>\n",
    "        <title>My First Webpage</title>\n",
    "    </head>\n",
    "    <body>\n",
    "        <h1>Welcome to My Website</h1>\n",
    "        <p>This is my first paragraph.</p>\n",
    "    </body>\n",
    "</html>\n",
    "```\n",
    "\n",
    "#### Islamic Principle:\n",
    "When learning to write HTML, think of it as creating something valuable, just as our Prophet Muhammad (PBUH) said, “The best of people are those who benefit others the most.” When building websites, think about how your work can help or teach others.\n"
   ]
  },
  {
   "cell_type": "markdown",
   "id": "87e0db12",
   "metadata": {},
   "source": [
    "### 3. Examples and Exercises (20-25 minutes)\n",
    "\n",
    "#### Example Code:  \n",
    "https://glitch.com/edit/#!/judicious-remarkable-muskox\n",
    "\n",
    "Introduce simple HTML code to display a heading and a paragraph:\n",
    "```html\n",
    "<!DOCTYPE html>\n",
    "<html>\n",
    "    <head>\n",
    "        <title>My First Webpage</title>\n",
    "    </head>\n",
    "    <body>\n",
    "        <h1>Welcome to My Webpage</h1>\n",
    "        <p>This is a simple paragraph to introduce HTML.</p>\n",
    "    </body>\n",
    "</html>\n",
    "```\n",
    "\n",
    "Walk students through the code step-by-step. Explain each tag and its purpose (e.g., `<h1>` for headings, `<p>` for paragraphs).\n",
    "\n",
    "#### Exercise 1:\n",
    "- Create a new webpage with a heading, a paragraph, and an image.\n",
    "- Code Example:\n",
    "```html\n",
    "<html>\n",
    "    <head>\n",
    "        <title>My Personal Webpage</title>\n",
    "    </head>\n",
    "    <body>\n",
    "        <h1>Welcome to My Webpage</h1>\n",
    "        <p>This is where I share my favorite things.</p>\n",
    "        <img src=\"image.jpg\" alt=\"An image of my favorite thing\">\n",
    "    </body>\n",
    "</html>\n",
    "```\n",
    "- **Challenge:** Students should change the text and the image in their code.\n",
    "\n",
    "#### Exercise 2:\n",
    "- Modify the webpage from Exercise 1 by adding a second paragraph and a list of hobbies.\n",
    "- Example:\n",
    "```html\n",
    "<ul>\n",
    "    <li>Reading</li>\n",
    "    <li>Swimming</li>\n",
    "    <li>Programming</li>\n",
    "</ul>\n",
    "```\n",
    "- Ask them to play with different elements and see how it changes the page.\n"
   ]
  },
  {
   "cell_type": "markdown",
   "id": "99c77ff2",
   "metadata": {},
   "source": [
    "### 4. Reflection (5-10 minutes)\n",
    "\n",
    "#### Reflection Prompt:\n",
    "Programming is not just about writing code; it's about solving problems and creating things that can help others. Just like how our Prophet Muhammad (PBUH) said that “actions are judged by their intentions,” we should approach our coding with the intention to make a positive impact on the world.\n",
    "\n",
    "- How can you use HTML to create something helpful for others? (A website for a community project, an educational page for friends, etc.)\n",
    "- How does the responsibility (Amanah) of building something meaningful align with your work in web development?\n"
   ]
  },
  {
   "cell_type": "markdown",
   "id": "8fd329b6",
   "metadata": {},
   "source": [
    "### 5. Conclusion (5 minutes)\n",
    "\n",
    "#### Summary:\n",
    "Today, you learned how to create a basic webpage using HTML. You’ve discovered how HTML provides the structure for websites, and how elements like headings, paragraphs, and images help create a meaningful page. Remember that just like in Islam, you are responsible for what you create—your code, your websites, and the impact they have on others.\n",
    "\n",
    "#### Motivation:\n",
    "Continue experimenting with HTML and web development! With each page you create, you’re learning more about how to bring ideas to life on the web. The skills you’re developing now can open up a world of possibilities—whether for fun, for helping others, or even for your future career!\n"
   ]
  }
 ],
 "metadata": {
  "kernelspec": {
   "display_name": "Python 3",
   "language": "python",
   "name": "python3"
  },
  "language_info": {
   "codemirror_mode": {
    "name": "ipython",
    "version": 3
   },
   "file_extension": ".py",
   "mimetype": "text/x-python",
   "name": "python",
   "nbconvert_exporter": "python",
   "version": "3.9.5"
  }
 },
 "nbformat": 4,
 "nbformat_minor": 5
}
