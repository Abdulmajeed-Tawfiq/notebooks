{
  "cells": [
    {
      "cell_type": "markdown",
      "metadata": {
        "id": "RpKgwf3BEOqR"
      },
      "source": [
        "# Magic Methods \n",
        "\n"
      ]
    }
  ],
  "metadata": {
    "colab": {
      "provenance": [],
      "toc_visible": true
    },
    "kernelspec": {
      "display_name": "Python 3",
      "name": "python3"
    }
  },
  "nbformat": 4,
  "nbformat_minor": 0
}
