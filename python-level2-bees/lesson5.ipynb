{
 "cells": [
  {
   "cell_type": "markdown",
   "metadata": {},
   "source": [
    "# Magic Methods and Operator Overloading in Python\n",
    "\n",
    "In Python, magic methods (also called dunder methods) are special methods surrounded by double underscores, like `__init__`, `__str__`, and `__add__`. These methods allow us to define how our objects behave with built-in operations like addition, comparison, or string formatting.\n",
    "\n",
    "### Objective:\n",
    "We'll learn how to use magic methods in a `MuslimDay` class to track and manipulate good and bad deeds, allowing for:\n",
    "- Custom string representation (`__str__`)\n",
    "- Adding two days (`__add__`)\n",
    "- Comparing good deeds (`__gt__`)\n"
   ]
  },
  {
   "cell_type": "markdown",
   "metadata": {},
   "source": [
    "## 1. Creating the `MuslimDay` Class\n",
    "We'll start by creating a simple `MuslimDay` class that tracks the name of the day, the number of good deeds, and bad deeds. We'll begin by implementing the `__str__` method to customize how the class is represented as a string.\n"
   ]
  },
  {
   "cell_type": "code",
   "execution_count": 24,
   "metadata": {},
   "outputs": [],
   "source": [
    "class MuslimDay:\n",
    "    def __init__(self, day_name):\n",
    "        self.day_name = day_name  # Name of the day\n",
    "        self.good_deeds = 0  # Number of good deeds\n",
    "        self.bad_deeds = 0  # Number of bad deeds\n",
    "\n",
    "    def __str__(self):\n",
    "        # Custom string representation\n",
    "        return f\"{self.day_name} - Good Deeds: {self.good_deeds}, Bad Deeds: {self.bad_deeds}\""
   ]
  },
  {
   "cell_type": "markdown",
   "metadata": {},
   "source": [
    "### 1.1. Test `__str__` Method\n",
    "Let's test the `__str__` method by creating a `MuslimDay` object and printing it. This should show a nice summary of the day's deeds.\n"
   ]
  },
  {
   "cell_type": "code",
   "execution_count": 25,
   "metadata": {},
   "outputs": [
    {
     "name": "stdout",
     "output_type": "stream",
     "text": [
      "Monday - Good Deeds: 0, Bad Deeds: 0\n"
     ]
    }
   ],
   "source": [
    "# Create a MuslimDay object\n",
    "day1 = MuslimDay('Monday')\n",
    "\n",
    "# Print the day using the __str__ method\n",
    "print(day1)"
   ]
  },
  {
   "cell_type": "markdown",
   "metadata": {},
   "source": [
    "### 1.2. Increasing Deeds\n",
    "Now that we have the string representation working, let's add functionality to increase the number of good and bad deeds for the day. We'll create two methods: `increase_good_deeds` and `increase_bad_deeds`.\n"
   ]
  },
  {
   "cell_type": "code",
   "execution_count": 26,
   "metadata": {},
   "outputs": [],
   "source": [
    "class MuslimDay:\n",
    "    def __init__(self, day_name):\n",
    "        self.day_name = day_name\n",
    "        self.good_deeds = 0\n",
    "        self.bad_deeds = 0\n",
    "\n",
    "    def increase_good_deeds(self, count):\n",
    "        # Increases good deeds\n",
    "        self.good_deeds += count\n",
    "\n",
    "    def increase_bad_deeds(self, count):\n",
    "        # Increases bad deeds\n",
    "        self.bad_deeds += count\n",
    "\n",
    "    def __str__(self):\n",
    "        return f\"{self.day_name} - Good Deeds: {self.good_deeds}, Bad Deeds: {self.bad_deeds}\""
   ]
  },
  {
   "cell_type": "markdown",
   "metadata": {},
   "source": [
    "### 1.3. Test Increasing Deeds\n",
    "Let's now test increasing the deeds. We'll increase good deeds by 5 and bad deeds by 2, and then print the result.\n"
   ]
  },
  {
   "cell_type": "code",
   "execution_count": 27,
   "metadata": {},
   "outputs": [
    {
     "name": "stdout",
     "output_type": "stream",
     "text": [
      "Monday - Good Deeds: 5, Bad Deeds: 2\n"
     ]
    }
   ],
   "source": [
    "# Create a MuslimDay object\n",
    "day1 = MuslimDay('Monday')\n",
    "\n",
    "# Increase deeds\n",
    "day1.increase_good_deeds(5)\n",
    "day1.increase_bad_deeds(2)\n",
    "\n",
    "# Print the updated details\n",
    "print(day1)"
   ]
  },
  {
   "cell_type": "markdown",
   "metadata": {},
   "source": [
    "## 2. Combining Days with `__add__`\n",
    "Now, let's move on to the next magic method: `__add__`. We will define this method to combine the good and bad deeds from two different `MuslimDay` objects into a new one.\n",
    "We'll add the good deeds and bad deeds together and return a new `MuslimDay` object with a combined name.\n"
   ]
  },
  {
   "cell_type": "code",
   "execution_count": 28,
   "metadata": {},
   "outputs": [],
   "source": [
    "class MuslimDay:\n",
    "    def __init__(self, day_name):\n",
    "        self.day_name = day_name\n",
    "        self.good_deeds = 0\n",
    "        self.bad_deeds = 0\n",
    "\n",
    "    def increase_good_deeds(self, count):\n",
    "        self.good_deeds += count\n",
    "\n",
    "    def increase_bad_deeds(self, count):\n",
    "        self.bad_deeds += count\n",
    "\n",
    "    def __add__(self, other_day):\n",
    "        # Combine two MuslimDay objects\n",
    "        combined_day_name = f\"Combined Day of {self.day_name} and {other_day.day_name}\"\n",
    "        combined_good_deeds = self.good_deeds + other_day.good_deeds\n",
    "        combined_bad_deeds = self.bad_deeds + other_day.bad_deeds\n",
    "        combined_day = MuslimDay(combined_day_name)\n",
    "        combined_day.good_deeds = combined_good_deeds\n",
    "        combined_day.bad_deeds = combined_bad_deeds\n",
    "        return combined_day\n",
    "\n",
    "    def __str__(self):\n",
    "        return f\"{self.day_name} - Good Deeds: {self.good_deeds}, Bad Deeds: {self.bad_deeds}\""
   ]
  },
  {
   "cell_type": "markdown",
   "metadata": {},
   "source": [
    "### 2.1. Test `__add__` Method\n",
    "Let's test the `__add__` method by combining the deeds from two `MuslimDay` objects and printing the result.\n"
   ]
  },
  {
   "cell_type": "code",
   "execution_count": 29,
   "metadata": {},
   "outputs": [
    {
     "name": "stdout",
     "output_type": "stream",
     "text": [
      "Combined Day of Monday and Tuesday - Good Deeds: 13, Bad Deeds: 7\n"
     ]
    }
   ],
   "source": [
    "# Create two MuslimDay objects\n",
    "day1 = MuslimDay('Monday')\n",
    "day2 = MuslimDay('Tuesday')\n",
    "\n",
    "# Increase deeds for both days\n",
    "day1.increase_good_deeds(5)\n",
    "day1.increase_bad_deeds(3)\n",
    "day2.increase_good_deeds(8)\n",
    "day2.increase_bad_deeds(4)\n",
    "\n",
    "# Combine the two days\n",
    "combined_day = day1 + day2\n",
    "print(combined_day)"
   ]
  },
  {
   "cell_type": "markdown",
   "metadata": {},
   "source": [
    "## 3. Comparing Days with `__gt__`\n",
    "Finally, let's implement the `__gt__` method to compare two `MuslimDay` objects and determine which day had more good deeds. We'll use this to compare the two days and print which one had more good deeds.\n"
   ]
  },
  {
   "cell_type": "code",
   "execution_count": 30,
   "metadata": {},
   "outputs": [],
   "source": [
    "class MuslimDay:\n",
    "    def __init__(self, day_name):\n",
    "        self.day_name = day_name\n",
    "        self.good_deeds = 0\n",
    "        self.bad_deeds = 0\n",
    "\n",
    "    def increase_good_deeds(self, count):\n",
    "        self.good_deeds += count\n",
    "\n",
    "    def increase_bad_deeds(self, count):\n",
    "        self.bad_deeds += count\n",
    "\n",
    "    def __add__(self, other):\n",
    "        combined_day_name = f\"Combined Day of {self.day_name} and {other.day_name}\"\n",
    "        combined_good_deeds = self.good_deeds + other.good_deeds\n",
    "        combined_bad_deeds = self.bad_deeds + other.bad_deeds\n",
    "        combined_day = MuslimDay(combined_day_name)\n",
    "        combined_day.good_deeds = combined_good_deeds\n",
    "        combined_day.bad_deeds = combined_bad_deeds\n",
    "        return combined_day\n",
    "\n",
    "    def __gt__(self, other):\n",
    "        # Compare good deeds\n",
    "        return self.good_deeds > other.good_deeds\n",
    "\n",
    "    def __str__(self):\n",
    "        return f\"{self.day_name} - Good Deeds: {self.good_deeds}, Bad Deeds: {self.bad_deeds}\""
   ]
  },
  {
   "cell_type": "markdown",
   "metadata": {},
   "source": [
    "### 3.1. Test `__gt__` Method\n",
    "Let's test the `__gt__` method by comparing two `MuslimDay` objects. We'll determine which day has more good deeds and print the result.\n"
   ]
  },
  {
   "cell_type": "code",
   "execution_count": 31,
   "metadata": {},
   "outputs": [
    {
     "name": "stdout",
     "output_type": "stream",
     "text": [
      "Tuesday had more good deeds.\n"
     ]
    }
   ],
   "source": [
    "# Create two MuslimDay objects\n",
    "day1 = MuslimDay('Monday')\n",
    "day2 = MuslimDay('Tuesday')\n",
    "\n",
    "# Increase deeds for both days\n",
    "day1.increase_good_deeds(5)\n",
    "day1.increase_bad_deeds(3)\n",
    "day2.increase_good_deeds(8)\n",
    "day2.increase_bad_deeds(4)\n",
    "\n",
    "# Compare the two days\n",
    "if day1 > day2:\n",
    "    print(f\"{day1.day_name} had more good deeds.\")\n",
    "else:\n",
    "    print(f\"{day2.day_name} had more good deeds.\")"
   ]
  },
  {
   "cell_type": "markdown",
   "metadata": {},
   "source": [
    "## Summary\n",
    "In this notebook, we:\n",
    "- Implemented the `__str__` method for a custom string representation of a `MuslimDay` object.\n",
    "- Used the `__add__` method to combine two days' deeds.\n",
    "- Applied the `__gt__` method to compare which day had more good deeds.\n",
    "\n",
    "## Homework:\n",
    "Track good and bad deeds of Muslims in a mosque. Enhance the Muslim and Masjid classes by adding new methods for deeds and donations.\n",
    "\n",
    "Instructions:\n",
    "\n",
    "- Implement the good deeds method with actions like pray and fast, which increase good deeds by one.\n",
    "- Implement a donate method that increases donations and also adds one good deed.\n",
    "- Implement __gt__ method on a Muslim class to compare two Muslims on the sum of good and bad deeds\n",
    "- Implement the bad deeds method with actions like cheat and lie, which increase bad deeds.\n",
    "- Implement the __str__ method for both the Muslim and Masjid classes."
   ]
  },
  {
   "cell_type": "code",
   "execution_count": 40,
   "metadata": {},
   "outputs": [
    {
     "ename": "TypeError",
     "evalue": "__str__ returned non-string (type NoneType)",
     "output_type": "error",
     "traceback": [
      "\u001b[0;31m---------------------------------------------------------------------------\u001b[0m",
      "\u001b[0;31mTypeError\u001b[0m                                 Traceback (most recent call last)",
      "Cell \u001b[0;32mIn[40], line 82\u001b[0m\n\u001b[1;32m     79\u001b[0m omar\u001b[38;5;241m.\u001b[39mdonate(\u001b[38;5;241m20\u001b[39m)\n\u001b[1;32m     81\u001b[0m \u001b[38;5;66;03m# Print details of all members\u001b[39;00m\n\u001b[0;32m---> 82\u001b[0m \u001b[38;5;28;43mprint\u001b[39;49m\u001b[43m(\u001b[49m\u001b[43mmasjid\u001b[49m\u001b[43m)\u001b[49m\n\u001b[1;32m     84\u001b[0m \u001b[38;5;66;03m# Get the best Muslim with the most good deeds\u001b[39;00m\n\u001b[1;32m     85\u001b[0m best_muslim \u001b[38;5;241m=\u001b[39m masjid\u001b[38;5;241m.\u001b[39mget_best_muslim()\n",
      "\u001b[0;31mTypeError\u001b[0m: __str__ returned non-string (type NoneType)"
     ]
    }
   ],
   "source": [
    "class Muslim:\n",
    "    def __init__(self, name):\n",
    "        self.name = name\n",
    "        self.good_deeds = 0\n",
    "        self.bad_deeds = 0\n",
    "        self.donations = 0\n",
    "    \n",
    "    def pray(self):\n",
    "        # your code here\n",
    "        pass\n",
    "\n",
    "    def fast(self):\n",
    "        # your code here\n",
    "        pass\n",
    "    \n",
    "    def donate(self, amount):\n",
    "        # your code here\n",
    "        pass\n",
    "\n",
    "    def lie(self):\n",
    "        # your code here\n",
    "        pass\n",
    "    \n",
    "    def cheat(self):\n",
    "        # your code here\n",
    "        pass\n",
    "\n",
    "    def __gt__(self, other):\n",
    "        pass\n",
    "    \n",
    "    def __str__(self):\n",
    "        # your code here\n",
    "        pass\n",
    "\n",
    "class Masjid:\n",
    "    def __init__(self):\n",
    "        self.members = []\n",
    "    \n",
    "    def add_member(self, muslim):\n",
    "        # your code here\n",
    "        pass\n",
    "    \n",
    "    def get_best_muslim(self):\n",
    "        # your code here\n",
    "        pass\n",
    "    \n",
    "    def total_donations(self):\n",
    "        # your code here\n",
    "        pass\n",
    "    \n",
    "    def __str__(self):\n",
    "        # your code here\n",
    "        pass\n",
    "\n",
    "# --- Example Usage ---\n",
    "# Create a Masjid (Mosque)\n",
    "masjid = Masjid()\n",
    "\n",
    "# Create some Muslims (members)\n",
    "ali = Muslim('Ali')\n",
    "fatima = Muslim('Fatima')\n",
    "omar = Muslim('Omar')\n",
    "\n",
    "# Add members to Masjid\n",
    "masjid.add_member(ali)\n",
    "masjid.add_member(fatima)\n",
    "masjid.add_member(omar)\n",
    "\n",
    "# Muslims performing some actions\n",
    "ali.pray()\n",
    "ali.fast()\n",
    "ali.donate(50)\n",
    "fatima.fast()\n",
    "fatima.donate(1)\n",
    "fatima.donate(3)\n",
    "fatima.donate(10)\n",
    "fatima.donate(5)\n",
    "omar.lie()\n",
    "omar.donate(20)\n",
    "\n",
    "# Print details of all members\n",
    "print(masjid)\n",
    "\n",
    "# Get the best Muslim with the most good deeds\n",
    "best_muslim = masjid.get_best_muslim()\n",
    "print(f\"\\nBest Muslim (Most Good Deeds): {best_muslim.name}\")\n",
    "\n",
    "# Calculate total donations\n",
    "print(f\"\\nTotal Donations: {masjid.total_donations()}\")\n"
   ]
  },
  {
   "cell_type": "code",
   "execution_count": null,
   "metadata": {},
   "outputs": [],
   "source": []
  }
 ],
 "metadata": {
  "kernelspec": {
   "display_name": "Python 3",
   "name": "python3"
  },
  "language_info": {
   "name": "python",
   "version": "3.8"
  }
 },
 "nbformat": 4,
 "nbformat_minor": 4
}
