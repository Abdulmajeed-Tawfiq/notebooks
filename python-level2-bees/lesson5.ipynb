{
 "cells": [
  {
   "cell_type": "markdown",
   "metadata": {},
   "source": [
    "# Magic Methods and Operator Overloading in Python\n",
    "\n",
    "## 1- Introduction\n",
    "\n",
    "In Python, magic methods (also known as dunder methods) are special methods surrounded by double underscores, like `__init__`, `__str__`, and `__add__`. These methods allow us to define how our objects behave with built-in operations like addition, comparison, or even string formatting.\n",
    "\n",
    "### Why Learn Magic Methods?\n",
    "- They make your classes more intuitive and Pythonic.\n",
    "- They enable you to customize the behavior of operators (`+`, `-`, etc.) for your classes.\n",
    "\n",
    "Let's begin with a simple example of a class for a **Charity** and see how magic methods can help us. Remember, in Islam, charity is greatly rewarded by Allah, and giving in the path of Allah multiplies your blessings."
   ]
  },
  {
   "cell_type": "markdown",
   "metadata": {},
   "source": [
    "### Example: A Charity Class\n",
    "We will create a `Charity` class that tracks the amount donated. Using magic methods, we will:\n",
    "- Add donations from different sources using the `+` operator.\n",
    "- Compare two charities using the `>` operator to see which collected more donations.\n"
   ]
  },
  {
   "cell_type": "code",
   "execution_count": null,
   "metadata": {},
   "outputs": [],
   "source": [
    "class Charity:\n",
    "    def __init__(self, name, funds=0):\n",
    "        self.name = name\n",
    "        self.funds = funds\n",
    "\n",
    "    def __add__(self, other):\n",
    "        # Adding the donations of two charities\n",
    "        return Charity(f\"Combined of {self.name} and {other.name}\", self.funds + other.funds)\n",
    "\n",
    "    def __gt__(self, other):\n",
    "        # Comparing which charity has more funds\n",
    "        return self.funds > other.funds\n",
    "\n",
    "    def __str__(self):\n",
    "        return f\"Charity '{self.name}' has collected {self.funds} units.\"\n"
   ]
  },
  {
   "cell_type": "markdown",
   "metadata": {},
   "source": [
    "### Code Practice:\n",
    "1. Create two charity objects: `charity1` and `charity2`.\n",
    "2. Add their funds using the `+` operator.\n",
    "3. Compare their funds using the `>` operator.\n",
    "4. Print the details of the combined charity."
   ]
  },
  {
   "cell_type": "code",
   "execution_count": null,
   "metadata": {},
   "outputs": [],
   "source": [
    "# Create charity objects\n",
    "charity1 = Charity(\"Food for Needy\", 500)\n",
    "charity2 = Charity(\"Clean Water Project\", 300)\n",
    "\n",
    "# Combine their funds\n",
    "combined_charity = charity1 + charity2\n",
    "print(combined_charity)\n",
    "\n",
    "# Compare their funds\n",
    "if charity1 > charity2:\n",
    "    print(f\"{charity1.name} has collected more funds.\")\n",
    "else:\n",
    "    print(f\"{charity2.name} has collected more funds.\")"
   ]
  },
  {
   "cell_type": "markdown",
   "metadata": {},
   "source": [
    "## 2- Building a Zakat Class\n",
    "In Islam, Zakat (charity) is one of the Five Pillars and is obligatory for Muslims who meet specific wealth criteria. Let's create a `Zakat` class to calculate the amount of Zakat owed based on wealth. We'll use magic methods to make the class more interactive and user-friendly.\n",
    "\n",
    "### Task:\n",
    "1. Create a `Zakat` class with the following:\n",
    "   - `__init__`: Initializes the total wealth.\n",
    "   - `__mul__`: Multiplies the wealth by 2.5% to calculate Zakat.\n",
    "   - `__str__`: Returns a string summarizing the wealth and Zakat.\n",
    "\n",
    "2. Create an object of the `Zakat` class, calculate the Zakat, and print the details."
   ]
  },
  {
   "cell_type": "code",
   "execution_count": null,
   "metadata": {},
   "outputs": [],
   "source": [
    "class Zakat:\n",
    "    def __init__(self, wealth):\n",
    "        self.wealth = wealth\n",
    "\n",
    "    def __mul__(self, percentage):\n",
    "        return self.wealth * (percentage / 100)\n",
    "\n",
    "    def __str__(self):\n",
    "        zakat = self * 2.5\n",
    "        return f\"Total Wealth: {self.wealth} units\\nZakat (2.5%): {zakat} units\"\n",
    "\n",
    "# Create an object and calculate Zakat\n",
    "my_wealth = Zakat(1000)\n",
    "print(my_wealth)\n",
    "print(\"Zakat Amount:\", my_wealth * 2.5)"
   ]
  },
  {
   "cell_type": "markdown",
   "metadata": {},
   "source": [
    "## 3- Summary and Homework\n",
    "\n",
    "### Summary:\n",
    "- Magic methods enable us to customize the behavior of Python classes.\n",
    "- `__add__`, `__mul__`, `__gt__`, and `__str__` are just a few examples of useful magic methods.\n",
    "- These methods make our classes more Pythonic and intuitive to use.\n",
    "\n",
    "### Homework:\n",
    "1. Create a `Masjid` class with the following:\n",
    "   - Tracks donations and expenses.\n",
    "   - Use `__sub__` to calculate the remaining funds after expenses.\n",
    "   - Use `__str__` to summarize the masjid's financial status.\n",
    "2. Test your class by creating objects and performing operations."
   ]
  }
 ],
 "metadata": {
  "kernelspec": {
   "display_name": "Python 3",
   "name": "python3"
  },
  "language_info": {
   "name": "python",
   "version": "3.8"
  }
 },
 "nbformat": 4,
 "nbformat_minor": 4
}
