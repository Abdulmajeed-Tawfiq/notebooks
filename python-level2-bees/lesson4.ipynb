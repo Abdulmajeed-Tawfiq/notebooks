{
  "cells": [
    {
      "cell_type": "markdown",
      "metadata": {
        "id": "RpKgwf3BEOqR"
      },
      "source": [
        "# Encapsulation and Data Hiding in Python\n",
        "\n",
        "## 1- Introduction\n",
        "\n",
        "Imagine you have a treasure box. Inside the box, you keep all your special things—like your money, favorite toys, or even secret letters. You don't want just anyone to open the box and look inside, right? But sometimes, you want to share certain things with your friends, like a toy or a letter.\n",
        "\n",
        "In programming, encapsulation is like a treasure box. It keeps some information safe and hidden, but lets you share certain things when you need to. Another way to think about it is like a library, where you can pick your own books (that's public data), or a bank, where you need a teller to get your money (that's private data).\n",
        "\n",
        "In Python, we use encapsulation to control our data. Some data stays hidden (private), while other data is shared when needed (public).\n",
        "\n",
        "### Code Explanation:\n",
        "In Python, we use **underscores** to indicate if a variable or method is private:\n",
        "- A double underscore `__variable` suggests that it is **private**, meaning it is harder to access directly from outside the class.\n",
        "\n",
        "### Example: Muslim Class with Private Data\n",
        "\n",
        "We will start by defining a `Muslim` class where we keep certain attributes, like savings, private.\n"
      ]
    },
    {
      "cell_type": "code",
      "execution_count": 6,
      "metadata": {},
      "outputs": [],
      "source": [
        "class Muslim:\n",
        "    def __init__(self, name, age):\n",
        "        self.name = name\n",
        "        self.age = age\n",
        "        self.__saving = 0  # Private attribute for savings\n",
        "    \n",
        "    def pray(self):\n",
        "        print(f\"{self.name} is praying to Allah.\")\n",
        "    \n",
        "    def fast(self):\n",
        "        print(f\"{self.name} is fasting during the month of Ramadan.\")\n",
        "    \n",
        "    def save(self, amount):\n",
        "        if amount > 0:\n",
        "            self.__saving += amount\n",
        "            print(f\"{self.name} has saved {amount} dollars\")\n",
        "        else:\n",
        "            print(\"Amount should be positive.\")\n",
        "    \n",
        "    def get_savings(self):\n",
        "        # Getter method to access private savings\n",
        "        return self.__saving"
      ]
    },
    {
      "cell_type": "markdown",
      "metadata": {},
      "source": [
        "### Code Practice:\n",
        "Create an instance of the Muslim class.\n",
        "Use the save method to add money and access savings through the get_savings method."
      ]
    },
    {
      "cell_type": "code",
      "execution_count": null,
      "metadata": {},
      "outputs": [],
      "source": [
        "# Create an instance of the Muslim class\n",
        "ahmed = Muslim(\"Ahmed\", 30)\n",
        "\n",
        "# Ahmed prays and fasts\n",
        "ahmed.pray()\n",
        "ahmed.fast()\n",
        "\n",
        "# Ahmed saves some money\n",
        "ahmed.save(100)\n",
        "\n",
        "# Accessing Ahmed's savings using the getter method\n",
        "print(f\"Ahmed's total savings: {ahmed.get_savings()}\")  # This should work\n",
        "\n",
        "# Try to access the savings directly (this will give an error)\n",
        "# print(ahmed.__saving)  # Uncommenting this will result in an AttributeError\n"
      ]
    },
    {
      "cell_type": "markdown",
      "metadata": {},
      "source": [
        "### Discussion:\n",
        "In the example above, we kept the __saving attribute private by using double underscores. We created a getter method get_savings() to access the savings instead of directly accessing the private attribute. This ensures that only certain parts of the class can change or access sensitive data.\n",
        "\n",
        "## 2- Why Use Encapsulation?\n",
        "Encapsulation is important because it:\n",
        "\n",
        "- Helps protect the integrity of the data.\n",
        "- Prevents accidental changes to important values.\n",
        "- Provides controlled access to private data.\n",
        "\n",
        "Think of how we keep our personal life private. We don’t expose all our private actions or wealth to the public, but we share enough through prayers, fasting, and zakat (charity). Similarly, in coding, we hide sensitive data and only allow access through controlled means.\n",
        "\n",
        "### Code Practice:\n",
        "Try to modify the save method to prevent saving negative values."
      ]
    },
    {
      "cell_type": "code",
      "execution_count": null,
      "metadata": {},
      "outputs": [],
      "source": [
        "class Muslim:\n",
        "    def __init__(self, name, age):\n",
        "        self.name = name\n",
        "        self.age = age\n",
        "        self.__saving = 0\n",
        "    \n",
        "    def pray(self):\n",
        "        print(f\"{self.name} is praying.\")\n",
        "    \n",
        "    def fast(self):\n",
        "        print(f\"{self.name} is fasting.\")\n",
        "    \n",
        "    def save(self, amount):\n",
        "        if amount > 0:\n",
        "            self.__saving += amount\n",
        "            print(f\"{self.name} has saved {amount} units of wealth.\")\n",
        "        else:\n",
        "            print(f\"Error: {amount} is not a valid saving amount.\")\n",
        "    \n",
        "    def get_savings(self):\n",
        "        return self.__saving\n",
        "\n",
        "# Test the class\n",
        "ahmed = Muslim(\"Ahmed\", 30)\n",
        "ahmed.save(50)\n",
        "ahmed.save(-10)  # This should trigger an error message\n"
      ]
    },
    {
      "cell_type": "markdown",
      "metadata": {},
      "source": [
        "## 3- Access Modifiers in Python\n",
        "Python uses access modifiers to control access to attributes and methods:\n",
        "\n",
        "- Public: Can be accessed from anywhere.\n",
        "- Private: Cannot be accessed directly outside the class (indicated by double underscores __).\n",
        "\n",
        "### Code Practice:\n",
        "Add a method that demonstrates both protected and private attributes."
      ]
    },
    {
      "cell_type": "code",
      "execution_count": null,
      "metadata": {},
      "outputs": [],
      "source": [
        "class Muslim:\n",
        "    def __init__(self, name, age):\n",
        "        self.name = name\n",
        "        self.age = age\n",
        "        self.__saving = 0  # Private attribute\n",
        "    \n",
        "    def pray(self):\n",
        "        print(f\"{self.name} is praying to Allah.\")\n",
        "    \n",
        "    def fast(self):\n",
        "        print(f\"{self.name} is fasting.\")\n",
        "    \n",
        "    def save(self, amount):\n",
        "        if amount > 0:\n",
        "            self.__saving += amount\n",
        "            \n",
        "            print(f\"{self.name} has saved {amount} units of wealth.\")\n",
        "        else:\n",
        "            print(\"Amount should be positive.\")\n",
        "    \n",
        "    def get_savings(self):\n",
        "        return self.__saving\n",
        "\n",
        "    def get_wealth(self):\n",
        "        return self._wealth\n",
        "\n",
        "# Create an instance and demonstrate protected and private access\n",
        "ahmed = Muslim(\"Ahmed\", 30)\n",
        "ahmed.save(100)\n",
        "\n",
        "# Access private attribute using a getter method\n",
        "print(f\"Ahmed's savings (private): {ahmed.get_savings()}\")\n",
        "\n",
        "# Uncommenting this will give an error\n",
        "# print(ahmed.__saving)  # Private attribute can't be accessed directly\n"
      ]
    },
    {
      "cell_type": "markdown",
      "metadata": {},
      "source": [
        "### Challenge 1:\n",
        "Create a new class MuslimFamily that encapsulates a family’s details, such as the number of family members and their total wealth. Add methods to:\n",
        "\n",
        "- Add family members.\n",
        "- Calculate total wealth.\n",
        "- Restrict access to the total wealth and use a method to get it."
      ]
    },
    {
      "cell_type": "code",
      "execution_count": null,
      "metadata": {},
      "outputs": [],
      "source": [
        "class MuslimFamily:\n",
        "    def __init__(self):\n",
        "        self.members = []\n",
        "        self.__total_wealth = 0\n",
        "\n",
        "    def add_member(self, name):\n",
        "        self.members.append(name)\n",
        "\n",
        "    def add_wealth(self, amount):\n",
        "        if amount > 0:\n",
        "            self.__total_wealth += amount\n",
        "\n",
        "    def get_total_wealth(self):\n",
        "        return self.__total_wealth\n",
        "\n",
        "# Code to test MuslimFamily class\n",
        "family = MuslimFamily()\n",
        "family.add_member(\"Ahmed\")\n",
        "family.add_member(\"Amina\")\n",
        "family.add_wealth(500)\n",
        "\n",
        "# Try to access the private total wealth directly (this should not work)\n",
        "# print(family.__total_wealth)  # This will result in an error\n",
        "\n",
        "# Use the getter method to access total wealth\n",
        "print(f\"Family's total wealth: {family.get_total_wealth()}\")\n"
      ]
    },
    {
      "cell_type": "markdown",
      "metadata": {},
      "source": [
        "### Challenge 2:\n",
        "Create a method calculate_zakat in the Muslim class that calculates and prints the amount of zakat (2.5% of total savings). The savings should be kept private."
      ]
    },
    {
      "cell_type": "code",
      "execution_count": null,
      "metadata": {},
      "outputs": [],
      "source": [
        "class Muslim:\n",
        "    def __init__(self, name, age):\n",
        "        self.name = name\n",
        "        self.age = age\n",
        "        self.__saving = 0\n",
        "\n",
        "    def save(self, amount):\n",
        "        if amount > 0:\n",
        "            self.__saving += amount\n",
        "            print(f\"{self.name} has saved {amount} units of wealth.\")\n",
        "\n",
        "    def calculate_zakat(self):\n",
        "        zakat = self.__saving * 0.025  # 2.5% of total savings\n",
        "        print(f\"{self.name} needs to pay {zakat} units of zakat.\")\n",
        "\n",
        "# Test the zakat calculation\n",
        "ahmed = Muslim(\"Ahmed\", 30)\n",
        "ahmed.save(1000)\n",
        "ahmed.calculate_zakat()\n"
      ]
    },
    {
      "cell_type": "markdown",
      "metadata": {},
      "source": [
        "## 4- Summary\n",
        "In this lesson, we've learned about Encapsulation and Data Hiding in Python. We protected important data by making attributes private, and we've learned to access them through getter methods. This approach is similar to how we protect sensitive information in our personal lives.\n",
        "\n",
        "### Homework:\n",
        "- Create a class IslamicOrganization that manages donations, members, and calculates the total funds. Make sure to use encapsulation for the funds, and provide a method to get the total funds.\n"
      ]
    },
    {
      "cell_type": "code",
      "execution_count": null,
      "metadata": {},
      "outputs": [],
      "source": [
        "class IslamicOrganization:\n",
        "    def __init__(self):\n",
        "        self.members = []\n",
        "        self.__funds = 0\n",
        "\n",
        "    def add_member(self, name):\n",
        "        self.members.append(name)\n",
        "\n",
        "    def donate(self, amount):\n",
        "        if amount > 0:\n",
        "            self.__funds += amount\n",
        "\n",
        "    def get_funds(self):\n",
        "        return self.__funds\n"
      ]
    }
  ],
  "metadata": {
    "colab": {
      "provenance": [],
      "toc_visible": true
    },
    "kernelspec": {
      "display_name": "Python 3",
      "name": "python3"
    },
    "language_info": {
      "codemirror_mode": {
        "name": "ipython",
        "version": 3
      },
      "file_extension": ".py",
      "mimetype": "text/x-python",
      "name": "python",
      "nbconvert_exporter": "python",
      "pygments_lexer": "ipython3",
      "version": "3.12.5"
    }
  },
  "nbformat": 4,
  "nbformat_minor": 0
}
