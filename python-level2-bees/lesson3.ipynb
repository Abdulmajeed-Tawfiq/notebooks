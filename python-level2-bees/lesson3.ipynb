{
  "cells": [
    {
      "cell_type": "markdown",
      "metadata": {},
      "source": [
        "\n",
        "# 1- Introduction to Inheritance in Python\n",
        "\n",
        "To demonstrate inheritance and polymorphism, let's start with the Muslim class. We'll define basic attributes and methods, create an instance of this class, and call methods like pray, fast, save, and calculate_zakat."
      ]
    },
    {
      "cell_type": "code",
      "execution_count": null,
      "metadata": {},
      "outputs": [],
      "source": [
        "class Muslim:\n",
        "    def __init__(self, name, age):\n",
        "        self.name = name\n",
        "        self.age = age\n",
        "        self.saving = 0\n",
        "\n",
        "    def pray(self):\n",
        "        print(f\"{self.name} is praying.\")\n",
        "\n",
        "    def fast(self):\n",
        "        print(f\"{self.name} is fasting.\")\n",
        "\n",
        "    def save(self, money):\n",
        "        if money < 0:\n",
        "            print(\"Error: Money must be a positive number only!\")\n",
        "        else:\n",
        "            self.saving += money\n",
        "            print(f\"{self.name} has saved {money}, total saved money is {self.saving}\")\n",
        "\n",
        "    def calculate_zakat(self):\n",
        "        zakat = self.saving * 0.025  # Zakat is 2.5% of the total savings\n",
        "        print(f\"{self.name} needs to pay ${zakat} as Zakat.\")"
      ]
    },
    {
      "cell_type": "markdown",
      "metadata": {},
      "source": [
        "# 2- Creating a Derived Class: `MuslimScholar`\n",
        "\n",
        "We can create a derived class `MuslimScholar` that inherits from `Muslim` and adds extra attributes and methods.\n",
        "\n",
        "Here, `MuslimScholar` inherits all attributes and methods from `Muslim`, but adds a `field_of_study` attribute and a `teach()` method.\n",
        "\n",
        "### Code Practice\n",
        "Create an instance of `MuslimScholar` and call both inherited and new methods.\n"
      ]
    },
    {
      "cell_type": "code",
      "execution_count": null,
      "metadata": {},
      "outputs": [],
      "source": [
        "class MuslimScholar(Muslim):\n",
        "    def __init__(self, name, age, field_of_study):\n",
        "        super().__init__(name, age)\n",
        "        self.field_of_study = field_of_study\n",
        "\n",
        "    def teach(self):\n",
        "        print(f\"{self.name} is teaching {self.field_of_study}.\")"
      ]
    },
    {
      "cell_type": "code",
      "execution_count": null,
      "metadata": {},
      "outputs": [],
      "source": []
    }
  ],
  "metadata": {
    "colab": {
      "provenance": [],
      "toc_visible": true
    },
    "kernelspec": {
      "display_name": "Python 3",
      "name": "python3"
    }
  },
  "nbformat": 4,
  "nbformat_minor": 0
}
