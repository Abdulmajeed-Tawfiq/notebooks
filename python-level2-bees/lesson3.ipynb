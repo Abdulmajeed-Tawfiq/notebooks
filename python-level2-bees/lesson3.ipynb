{
  "cells": [
    {
      "cell_type": "markdown",
      "metadata": {},
      "source": [
        "# Inheritance in Python\n",
        "\n",
        "## 1- Introduction \n",
        "\n",
        "To demonstrate inheritance and polymorphism, let's start with the Muslim class. We'll define basic attributes and methods, create an instance of this class, and call methods like pray, fast, save, and calculate_zakat."
      ]
    },
    {
      "cell_type": "code",
      "execution_count": null,
      "metadata": {},
      "outputs": [],
      "source": [
        "class Muslim:\n",
        "    def __init__(self, name, age):\n",
        "        self.name = name\n",
        "        self.age = age\n",
        "        self.saving = 0\n",
        "\n",
        "    def pray(self):\n",
        "        print(f\"{self.name} is praying.\")\n",
        "\n",
        "    def fast(self):\n",
        "        print(f\"{self.name} is fasting.\")\n",
        "\n",
        "    def save(self, money):\n",
        "        if money < 0:\n",
        "            print(\"Error: Money must be a positive number only!\")\n",
        "        else:\n",
        "            self.saving += money\n",
        "            print(f\"{self.name} has saved {money}, total saved money is {self.saving}\")\n",
        "\n",
        "    def calculate_zakat(self):\n",
        "        zakat = self.saving * 0.025  # Zakat is 2.5% of the total savings\n",
        "        print(f\"{self.name} needs to pay ${zakat} as Zakat.\")"
      ]
    },
    {
      "cell_type": "markdown",
      "metadata": {},
      "source": [
        "## 2- Creating a Derived Class: `MuslimScholar`\n",
        "\n",
        "We can create a derived class `MuslimScholar` that inherits from `Muslim` and adds extra attributes and methods.\n",
        "\n",
        "Here, `MuslimScholar` inherits all attributes and methods from `Muslim`, but adds a `field_of_study` attribute and a `teach()` method.\n",
        "\n",
        "### Code Practice\n",
        "Create an instance of `MuslimScholar` and call both inherited and new methods.\n"
      ]
    },
    {
      "cell_type": "code",
      "execution_count": null,
      "metadata": {},
      "outputs": [],
      "source": [
        "class MuslimScholar(Muslim):\n",
        "    def __init__(self, name, age, field_of_study):\n",
        "        super().__init__(name, age)\n",
        "        self.field_of_study = field_of_study\n",
        "\n",
        "    def teach(self):\n",
        "        print(f\"{self.name} is teaching {self.field_of_study}.\")"
      ]
    },
    {
      "cell_type": "markdown",
      "metadata": {},
      "source": [
        "## 3- Overriding Methods\n",
        "\n",
        "Method overriding occurs when a subclass provides a specific implementation of a method that is already defined in its superclass.\n",
        "\n",
        "By overriding the `pray` method, `MuslimScholar` provides its own version.\n",
        "\n",
        "### Code Practice\n",
        "Override the `fast` method in `MuslimScholar` to print a unique message. Then create an instance and test both `pray` and `fast`.\n"
      ]
    },
    {
      "cell_type": "code",
      "execution_count": null,
      "metadata": {},
      "outputs": [],
      "source": [
        "class MuslimScholar(Muslim):\n",
        "    def pray(self):\n",
        "        print(f\"{self.name}, a scholar, is praying and giving thanks.\")"
      ]
    },
    {
      "cell_type": "markdown",
      "metadata": {},
      "source": [
        "## 4- Super Function and Method Overriding\n",
        "\n",
        "Using `super()` allows a subclass to call a method from its parent class, which is helpful in method overriding.\n",
        "\n",
        "Here, `super().pray()` calls the `pray` method from `Muslim` before adding additional behavior.\n",
        "\n",
        "### Code Practice\n",
        "Create another method in `MuslimScholar` using `super()` to access the parent’s method.\n"
      ]
    },
    {
      "cell_type": "code",
      "execution_count": null,
      "metadata": {},
      "outputs": [],
      "source": [
        "class MuslimScholar(Muslim):\n",
        "    def pray(self):\n",
        "        super().pray()\n",
        "        print(f\"{self.name} also leads a prayer session.\")"
      ]
    },
    {
      "cell_type": "markdown",
      "metadata": {},
      "source": [
        "## 5- Multiple Inheritance and `MuslimProfessional` Class\n",
        "\n",
        "Python supports multiple inheritance, where a class can inherit from more than one parent class. Be cautious as it can introduce complexity.\n",
        "\n",
        "### Code Practice\n",
        "Create an instance of `MuslimProfessional` and call `work` and `pray` to observe how multiple inheritance works."
      ]
    },
    {
      "cell_type": "code",
      "execution_count": null,
      "metadata": {},
      "outputs": [],
      "source": [
        "class Professional:\n",
        "    def work(self):\n",
        "        print(\"Working hard!\")\n",
        "\n",
        "class MuslimProfessional(Muslim, Professional):\n",
        "    def pray(self):\n",
        "        print(f\"{self.name} prays during work breaks.\")"
      ]
    },
    {
      "cell_type": "markdown",
      "metadata": {},
      "source": [
        "## 6- Polymorphism and Dynamic Typing\n",
        "\n",
        "Polymorphism allows objects of different classes to be treated as objects of a common superclass. Python's dynamic typing enhances this.\n",
        "\n",
        "\n",
        "### Code Practice\n",
        "Create a function that accepts any `Muslim`-based object and calls `pray` and `fast`. Test it with various classes.\n"
      ]
    },
    {
      "cell_type": "code",
      "execution_count": null,
      "metadata": {},
      "outputs": [],
      "source": [
        "def perform_prayer(person):\n",
        "    person.pray()\n",
        "\n",
        "perform_prayer(Muslim(\"Fatimah\", 30))\n",
        "perform_prayer(MuslimScholar(\"Ibrahim\", 40, \"Fiqh\"))"
      ]
    },
    {
      "cell_type": "markdown",
      "metadata": {},
      "source": [
        "## 7- Duck Typing in Python\n",
        "\n",
        "Duck typing means that Python focuses on methods and properties rather than the class of an object.\n",
        "\n",
        "### Code Practice\n",
        "Create an unrelated class with a `pray` method, then pass it to a function that expects `pray`.\n"
      ]
    },
    {
      "cell_type": "code",
      "execution_count": null,
      "metadata": {},
      "outputs": [],
      "source": [
        "class NonMuslim:\n",
        "    def pray(self):\n",
        "        print(\"Reflecting in silence.\")\n",
        "\n",
        "def start_prayer(entity):\n",
        "    entity.pray()\n",
        "\n",
        "start_prayer(NonMuslim())  # Works because `NonMuslim` has a `pray` method."
      ]
    },
    {
      "cell_type": "markdown",
      "metadata": {},
      "source": [
        "## 8- Abstract Base Class for Shared Behavior\n",
        "\n",
        "Using `abc` module, we can define an abstract base class with abstract methods.\n",
        "\n",
        "\n",
        "### Code Practice\n",
        "Create another class that inherits from `Believer` and implements `pray`.\n"
      ]
    },
    {
      "cell_type": "code",
      "execution_count": null,
      "metadata": {},
      "outputs": [],
      "source": [
        "class Believer(ABC):\n",
        "    @abstractmethod\n",
        "    def pray(self):\n",
        "        pass\n",
        "\n",
        "class Muslim(Believer):\n",
        "    def pray(self):\n",
        "        print(\"Praying sincerely.\")"
      ]
    },
    {
      "cell_type": "markdown",
      "metadata": {},
      "source": [
        "## 9- Advanced Polymorphism with `isinstance` and `issubclass`\n",
        "\n",
        "We use `isinstance` to check if an object is an instance of a class and `issubclass` for class relationships.\n",
        "\n",
        "### Code Practice\n",
        "Create instances and use `isinstance` and `issubclass` to check relationships.\n"
      ]
    },
    {
      "cell_type": "code",
      "execution_count": null,
      "metadata": {},
      "outputs": [],
      "source": [
        "print(isinstance(person1, Muslim))  # True\n",
        "print(issubclass(MuslimScholar, Muslim))  # True"
      ]
    },
    {
      "cell_type": "markdown",
      "metadata": {},
      "source": [
        "## 10- Case Study and Review: Applying Inheritance and Polymorphism\n",
        "\n",
        "Let's implement a `MuslimCommunity` class that holds various `Muslim` objects, including scholars and professionals.\n",
        "\n",
        "### Code Practice\n",
        "Add instances of `Muslim`, `MuslimScholar`, and `MuslimProfessional` to `MuslimCommunity` and call `community_prayers()`.\n"
      ]
    },
    {
      "cell_type": "code",
      "execution_count": null,
      "metadata": {},
      "outputs": [],
      "source": [
        "class MuslimCommunity:\n",
        "    def __init__(self):\n",
        "        self.members = []\n",
        "\n",
        "    def add_member(self, member):\n",
        "        if isinstance(member, Muslim):\n",
        "            self.members.append(member)\n",
        "\n",
        "    def community_prayers(self):\n",
        "        for member in self.members:\n",
        "            member.pray()"
      ]
    }
  ],
  "metadata": {
    "colab": {
      "provenance": [],
      "toc_visible": true
    },
    "kernelspec": {
      "display_name": "Python 3",
      "name": "python3"
    }
  },
  "nbformat": 4,
  "nbformat_minor": 0
}
