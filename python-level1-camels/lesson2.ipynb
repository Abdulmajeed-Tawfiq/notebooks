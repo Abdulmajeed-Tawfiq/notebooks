{
 "cells": [
  {
   "cell_type": "markdown",
   "metadata": {},
   "source": [
    "# Introduction to Variables and Data Types in Python\n",
    "\n",
    "Welcome to your first Python lesson! 🎉\n",
    "\n",
    "Today, we'll be learning about two important concepts:\n",
    "1. **Variables**\n",
    "2. **Data Types**\n",
    "\n",
    "Let's dive in! 🚀"
   ]
  },
  {
   "cell_type": "code",
   "execution_count": 1,
   "metadata": {},
   "outputs": [],
   "source": [
    "# 📝 What are Variables?\n",
    "# Variables are like \"boxes\" where we can store information.\n",
    "# These \"boxes\" can hold numbers, words, or other types of data.\n",
    "\n",
    "# Example: Let's create a variable named \"age\" and store a number in it.\n",
    "age = 10  # We stored the number 10 in the \"age\" variable.\n",
    "\n",
    "# Now, let's see what is inside the \"age\" box by printing it.\n",
    "print(age)  # This will show us the value of age (10)."
   ]
  },
  {
   "cell_type": "markdown",
   "metadata": {},
   "source": [
    "🎮 We can use variables to store all sorts of things, not just numbers!\n",
    "Let's create another variable to store a word (a string)."
   ]
  },
  {
   "cell_type": "code",
   "execution_count": 2,
   "metadata": {},
   "outputs": [],
   "source": [
    "name = \"Alice\"  # Storing the name \"Alice\" in a variable called \"name\".\n",
    "print(name)  # This will print \"Alice\"."
   ]
  },
  {
   "cell_type": "markdown",
   "metadata": {},
   "source": [
    "✅ We just created two variables:\n",
    "1. **\"age\"** to store a number.\n",
    "2. **\"name\"** to store a word (string).\n",
    "\n",
    "Now let's talk about **Data Types**! 🎯"
   ]
  },
  {
   "cell_type": "code",
   "execution_count": 3,
   "metadata": {},
   "outputs": [],
   "source": [
    "# A Data Type tells us what kind of data we are working with.\n",
    "# There are a few main data types we will use:\n",
    "#\n",
    "# 1. **Integers** (whole numbers, no decimal points)\n",
    "# 2. **Floats** (numbers with decimals)\n",
    "# 3. **Strings** (text, like words or sentences)\n",
    "# 4. **Booleans** (True or False)\n",
    "#\n",
    "# Let's see some examples:\n",
    "\n",
    "# 1. Integers: Whole numbers\n",
    "age = 10  # This is an integer, because it is a whole number.\n",
    "print(\"Age:\", age)  # Output will be: 10\n",
    "\n",
    "# 2. Floats: Numbers with decimals\n",
    "height = 1.5  # This is a float because it has a decimal.\n",
    "print(\"Height:\", height)  # Output will be: 1.5\n",
    "\n",
    "# 3. Strings: Text or words\n",
    "greeting = \"Hello, world!\"  # This is a string because it's a text.\n",
    "print(\"Greeting:\", greeting)  # Output will be: Hello, world!\n",
    "\n",
    "# 4. Booleans: True or False values\n",
    "is_student = True  # This is a boolean value.\n",
    "is_teacher = False  # This is also a boolean.\n",
    "print(\"Is student:\", is_student)  # Output will be: True\n",
    "print(\"Is teacher:\", is_teacher)  # Output will be: False"
   ]
  },
  {
   "cell_type": "markdown",
   "metadata": {},
   "source": [
    "✅ Summary so far:\n",
    "- We learned about variables and how to store different types of data.\n",
    "- We learned about 4 main data types: Integer, Float, String, and Boolean.\n",
    "\n",
    "Let's now experiment with mixing variables together! 🎨"
   ]
  },
  {
   "cell_type": "code",
   "execution_count": 4,
   "metadata": {},
   "outputs": [],
   "source": [
    "# Let's add the \"age\" and \"height\" variables together.\n",
    "total = age + height  # Adding an integer (age) and a float (height).\n",
    "print(\"Total (age + height):\", total)  # Output will be: 11.5\n",
    "\n",
    "# Or let's combine strings!\n",
    "message = \"My name is \" + name + \" and I am \" + str(age) + \" years old.\"\n",
    "# Notice how we used str(age) to convert the number to a string before adding it to the sentence.\n",
    "print(message)  # Output will be: My name is Alice and I am 10 years old."
   ]
  },
  {
   "cell_type": "markdown",
   "metadata": {},
   "source": [
    "🎉 Congratulations! You've learned how to:\n",
    "- Use variables to store data.\n",
    "- Work with different data types: Integers, Floats, Strings, and Booleans.\n",
    "- Combine different data types together!\n",
    "\n",
    "🔍 Extra Challenge! 🔍\n",
    "Can you create your own variable to store your favorite color?\n",
    "Then, print a sentence like: \"My favorite color is [color].\""
   ]
  },
  {
   "cell_type": "code",
   "execution_count": 5,
   "metadata": {},
   "outputs": [],
   "source": [
    "favorite_color = \"Blue\"  # Example solution\n",
    "print(\"My favorite color is\", favorite_color)  # Output will be: My favorite color is Blue."
   ]
  }
 ],
 "metadata": {
  "kernelspec": {
   "display_name": "Python 3",
   "language": "python",
   "name": "python3"
  },
  "language_info": {
   "codemirror_mode": {
    "name": "ipython",
    "version": 3
   },
   "file_extension": ".py",
   "mimetype": "text/x-python",
   "name": "python",
   "nbconvert_exporter": "python",
   "version": "3.10.10"
  }
 },
 "nbformat": 4,
 "nbformat_minor": 5
}
